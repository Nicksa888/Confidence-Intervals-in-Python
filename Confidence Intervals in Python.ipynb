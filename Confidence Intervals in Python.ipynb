{
 "cells": [
  {
   "cell_type": "markdown",
   "id": "7de3ef9f",
   "metadata": {},
   "source": [
    "# Wald Confidence Interval"
   ]
  },
  {
   "cell_type": "code",
   "execution_count": null,
   "id": "0cacf87d",
   "metadata": {},
   "outputs": [],
   "source": [
    "Explanation of Wald Confidence Interval:\n",
    "\n",
    "The Wald confidence interval is a method for constructing a confidence interval for a population parameter (in this case, a proportion) using a normal distribution approximation.\n",
    "The Wald confidence interval assumes that the sample proportion follows a normal distribution, which may not be accurate for small sample sizes or when the proportion is close to 0 or 1."
   ]
  },
  {
   "cell_type": "code",
   "execution_count": 8,
   "id": "7deb0914",
   "metadata": {},
   "outputs": [
    {
     "name": "stdout",
     "output_type": "stream",
     "text": [
      "Likelihood of lethal attack by Shining Path: 90.18\n",
      "Wald Confidence Interval:\n",
      "Lower bound: 0.1798332743299815\n",
      "Upper bound: 0.23898917767353936\n"
     ]
    }
   ],
   "source": [
    "import numpy as np\n",
    "from scipy.stats import norm\n",
    "\n",
    "# Given data\n",
    "LA_SP = np.array([[1194, 130],\n",
    "                  [1704, 757]])\n",
    "\n",
    "# Calculate likelihood estimates\n",
    "TR = LA_SP / np.sum(LA_SP, axis=1, keepdims=True)\n",
    "\n",
    "# Likelihood of lethal attack by Shining Path\n",
    "TR1 = TR[0, 0] * 100\n",
    "\n",
    "# Likelihood of non-fatal attack by Shining Path\n",
    "TR2 = TR[1, 0] * 100\n",
    "\n",
    "print(\"Likelihood of lethal attack by Shining Path:\", round(TR1, 2))\n",
    "\n",
    "# Calculate Wald confidence interval\n",
    "alpha = 0.05\n",
    "var_wald = (TR[0, 0] * (1 - TR[0, 0]) / np.sum(LA_SP[0, :]) +\n",
    "            TR[1, 0] * (1 - TR[1, 0]) / np.sum(LA_SP[0, :]))\n",
    "wald_ci = (TR[0, 0] - TR[1, 0] +\n",
    "           norm.ppf([alpha / 2, 1 - alpha / 2]) *\n",
    "           np.sqrt(var_wald))\n",
    "\n",
    "print(\"Wald Confidence Interval:\")\n",
    "print(\"Lower bound:\", wald_ci[0])\n",
    "print(\"Upper bound:\", wald_ci[1])"
   ]
  },
  {
   "cell_type": "markdown",
   "id": "bd27f0e8",
   "metadata": {},
   "source": [
    "I've specified value=0.5 for the proportions_ztest function, which is used for a 2-sample test. This value represents the null hypothesis that the proportions in the two groups are equal (i.e., there is no difference between the groups)"
   ]
  },
  {
   "cell_type": "markdown",
   "id": "3552fc88",
   "metadata": {},
   "source": [
    "The likelihood of a lethal attack by the Shining Path is approximately 90.18%. The Wald confidence interval for the difference in probabilities given the attack outcomes ranges from approximately 0.1798 to 0.2390.\n",
    "\n",
    "Interpreting the results:\n",
    "\n",
    "The likelihood of a lethal attack by the Shining Path suggests that, based on the data, there is a high probability of such attacks occurring.\n",
    "The Wald confidence interval indicates the range within which we can be reasonably confident that the true difference in probabilities lies. Specifically, with 95% confidence, we estimate that the difference in probabilities for lethal attacks by the Shining Path compared to other groups falls between approximately 0.1798 and 0.2390.\n",
    "In summary, these results suggest a high likelihood of lethal attacks by the Shining Path, and the confidence interval provides an estimate of the uncertainty surrounding the difference in probabilities for such attacks compared to other groups.\n",
    "The Wald confidence interval is a statistical measure used to estimate the range within which the true difference in department probabilities lies. In this context, it helps quantify the uncertainty surrounding the difference in probabilities of lethal attacks by the Shining Path compared to other groups.\n",
    "\n",
    "With a 95% confidence level, we are reasonably confident that the true difference in probabilities for lethal attacks by the Shining Path falls within the interval of approximately 0.1798 to 0.2390. This means that if we were to conduct the same analysis multiple times using different samples, we would expect the true difference in probabilities to fall within this range in approximately 95% of cases.\n",
    "\n",
    "Elaborating further, a difference in probabilities falling within this interval suggests that there is a statistically significant distinction between the likelihood of lethal attacks by the Shining Path and other groups. However, it's important to note that this interval provides a range of plausible values based on the observed data and statistical assumptions, and it does not guarantee that the true difference falls exactly within this range."
   ]
  },
  {
   "cell_type": "markdown",
   "id": "f2d80764",
   "metadata": {},
   "source": [
    "# Agresti-Caffo confidence interval"
   ]
  },
  {
   "cell_type": "markdown",
   "id": "b2a3f937",
   "metadata": {},
   "source": [
    "\n",
    "The Agresti-Caffo confidence interval is an adjustment of the standard Wald confidence interval for binomial proportions. It addresses some of the limitations of the Wald interval, particularly when dealing with small sample sizes or when the proportion is close to 0 or 1. This interval provides an adjusted estimate of the standard error by adding a term based on the sample size to the Wald interval. This adjustment improves the coverage properties of the confidence interval, especially for small sample sizes.\n",
    "\n",
    "Strengths of the Agresti-Caffo confidence interval include:\n",
    "\n",
    "Improved Coverage: The adjustment in the formula leads to improved coverage properties, especially for small sample sizes or extreme proportions. This means that the Agresti-Caffo interval tends to capture the true population parameter with higher accuracy compared to the standard Wald interval.\n",
    "Conservative: The interval tends to be conservative, meaning that it provides wider intervals than the Wald interval, which helps to avoid underestimating uncertainty in the estimate.\n",
    "Versatility: The Agresti-Caffo interval can be used in various settings where binomial proportions are estimated, such as in medical research, survey sampling, and quality control.\n",
    "Overall, the Agresti-Caffo confidence interval is a robust and widely-used method for estimating confidence intervals for binomial proportions, particularly when dealing with small sample sizes or extreme proportions. It provides a balance between computational simplicity and improved coverage properties, making it a valuable tool in statistical inference."
   ]
  },
  {
   "cell_type": "markdown",
   "id": "0b9cae5c",
   "metadata": {},
   "source": [
    "We manually calculate the sample proportions (prop_group1 and prop_group2) and standard errors (se_group1 and se_group2) using the Agresti-Caffo adjustment.\n",
    "We calculate the difference in proportions (prop_diff) between the two groups.\n",
    "We calculate the z-score corresponding to the desired confidence level (e.g., 95% confidence interval) using the norm.ppf function from the SciPy library.\n",
    "We calculate the margin of error using the \n",
    "formula z * sqrt(se_group1**2 + se_group2**2).\n",
    "Finally, we calculate the lower and upper bounds of the confidence interval by subtracting and adding the margin of error from the difference in proportions, respectively."
   ]
  },
  {
   "cell_type": "code",
   "execution_count": 4,
   "id": "d8c7d521",
   "metadata": {},
   "outputs": [
    {
     "name": "stdout",
     "output_type": "stream",
     "text": [
      "Agresti-Caffo Confidence Interval:\n",
      "Lower bound: 0.14667277493404696\n",
      "Upper bound: 0.2721496770694739\n"
     ]
    }
   ],
   "source": [
    "import numpy as np\n",
    "from scipy.stats import norm\n",
    "\n",
    "# Given data\n",
    "successes_group1 = 1194\n",
    "trials_group1 = 1194 + 130\n",
    "\n",
    "successes_group2 = 1704\n",
    "trials_group2 = 1704 + 757\n",
    "\n",
    "# Calculate sample proportions\n",
    "prop_group1 = successes_group1 / trials_group1\n",
    "prop_group2 = successes_group2 / trials_group2\n",
    "\n",
    "# Calculate standard error using Agresti-Caffo adjustment\n",
    "se_group1 = np.sqrt(prop_group1 * (1 - prop_group1) / trials_group1 + (3 / 4 / trials_group1))\n",
    "se_group2 = np.sqrt(prop_group2 * (1 - prop_group2) / trials_group2 + (3 / 4 / trials_group2))\n",
    "\n",
    "# Calculate the difference in proportions\n",
    "prop_diff = prop_group1 - prop_group2\n",
    "\n",
    "# Calculate z-score for desired confidence level (e.g., 95% confidence interval)\n",
    "alpha = 0.05\n",
    "z = norm.ppf(1 - alpha / 2)\n",
    "\n",
    "# Calculate the margin of error\n",
    "margin_of_error = z * np.sqrt(se_group1**2 + se_group2**2)\n",
    "\n",
    "# Calculate the lower and upper bounds of the confidence interval\n",
    "ci_low = prop_diff - margin_of_error\n",
    "ci_high = prop_diff + margin_of_error\n",
    "\n",
    "print(\"Agresti-Caffo Confidence Interval:\")\n",
    "print(\"Lower bound:\", ci_low)\n",
    "print(\"Upper bound:\", ci_high)"
   ]
  },
  {
   "cell_type": "markdown",
   "id": "019c9e64",
   "metadata": {},
   "source": [
    "\n",
    "The Agresti-Caffo confidence interval provides a range within which we can be reasonably confident that the true difference between the two proportions lies. In this case, the lower bound is 0.1467 and the upper bound is 0.2721. Here's how to interpret these results:\n",
    "\n",
    "Lower Bound: The lower bound of the confidence interval (0.1467) indicates that, with 95% confidence, the true difference between the proportions of \"successes\" in the two groups is at least 0.1467 units. In other words, we can be 95% confident that the difference between the two proportions is not lower than 0.1467.\n",
    "Upper Bound: The upper bound of the confidence interval (0.2721) indicates that, with 95% confidence, the true difference between the proportions of \"successes\" in the two groups is at most 0.2721 units. In other words, we can be 95% confident that the difference between the two proportions is not higher than 0.2721.\n",
    "Overall Interpretation: The confidence interval spans from 0.1467 to 0.2721, suggesting that the true difference between the proportions of \"successes\" in the two groups is likely to fall within this range. However, we cannot pinpoint the exact value of the difference with certainty due to sampling variability.\n",
    "In summary, based on the Agresti-Caffo confidence interval, we are 95% confident that the true difference between the proportions of \"successes\" in the two groups lies between 0.1467 and 0.2721 units. This information provides valuable insights into the comparison of the two groups and allows us to make informed decisions or draw conclusions about their relative performance or characteristics.\n",
    "\n",
    "Now, considering the Agresti-Caffo confidence interval:\n",
    "\n",
    "Lower Bound Interpretation: The lower bound of the confidence interval (0.1467) indicates that, with 95% confidence, the true difference between the proportions of \"successes\" in the two groups is at least 0.1467 units. If the null hypothesis were true (i.e., there is no difference between the proportions), we would expect the true difference to be around 0.1467 units. However, since this lower bound is greater than zero, it suggests evidence against the null hypothesis. In other words, we have evidence to reject the null hypothesis and conclude that there is a statistically significant difference between the proportions of \"successes\" in the two groups.\n",
    "Upper Bound Interpretation: Similarly, the upper bound of the confidence interval (0.2721) indicates that, with 95% confidence, the true difference between the proportions of \"successes\" in the two groups is at most 0.2721 units. If the null hypothesis were true, we would expect the true difference to be around 0.2721 units. However, since this upper bound is less than zero, it also suggests evidence against the null hypothesis. Again, we have evidence to reject the null hypothesis and conclude that there is a statistically significant difference between the proportions of \"successes\" in the two groups.\n",
    "In summary, the Agresti-Caffo confidence interval provides evidence against the null hypothesis and suggests that there is a statistically significant difference between the proportions of \"successes\" in the two groups. This interpretation aligns with the alternative hypothesis, which posits that the true difference between the proportions is not zero."
   ]
  },
  {
   "cell_type": "code",
   "execution_count": 9,
   "id": "5a578214",
   "metadata": {},
   "outputs": [
    {
     "name": "stdout",
     "output_type": "stream",
     "text": [
      "Odds Ratio: 4.0803\n",
      "Inverse Odds Ratio: 0.2451\n",
      "Confidence Interval for Odds Ratio: [3.34 4.98]\n"
     ]
    }
   ],
   "source": [
    "import numpy as np\n",
    "import pandas as pd\n",
    "from scipy.stats import norm\n",
    "\n",
    "# Given data\n",
    "LA_SP = np.array([[1194, 130],\n",
    "                  [1704, 757]])\n",
    "\n",
    "# Set column and row names\n",
    "colnames = [\"Shining Path\", \"Other Group\"]\n",
    "rownames = [\"Lethal\", \"Non Fatal\"]\n",
    "\n",
    "# Create a DataFrame\n",
    "df = pd.DataFrame(LA_SP, columns=colnames, index=rownames)\n",
    "\n",
    "# Calculate odds ratio\n",
    "odds_ratio = (df.iloc[0, 0] * df.iloc[1, 1]) / (df.iloc[1, 0] * df.iloc[0, 1])\n",
    "print(\"Odds Ratio:\", round(odds_ratio, 4))\n",
    "\n",
    "# Calculate inverse odds ratio\n",
    "inverse_odds_ratio = round(1 / odds_ratio, 4)\n",
    "print(\"Inverse Odds Ratio:\", inverse_odds_ratio)\n",
    "\n",
    "# Calculate confidence interval for odds ratio\n",
    "alpha = 0.05\n",
    "var_log_or = 1 / df.iloc[0, 0] + 1 / df.iloc[0, 1] + 1 / df.iloc[1, 0] + 1 / df.iloc[1, 1]\n",
    "OR_CI = np.exp(np.log(odds_ratio) + norm.ppf([alpha / 2, 1 - alpha / 2]) * np.sqrt(var_log_or))\n",
    "print(\"Confidence Interval for Odds Ratio:\", np.round(OR_CI, 2))"
   ]
  },
  {
   "cell_type": "markdown",
   "id": "0f59949e",
   "metadata": {},
   "source": [
    "\n",
    "The interpretation of the results is as follows:\n",
    "\n",
    "Odds Ratio: The odds ratio of approximately 4.0803 indicates that the odds of a lethal attack by the Shining Path are approximately 4.0803 times higher compared to the odds of a lethal attack by other groups. In other words, individuals are about 4 times more likely to experience a lethal attack from the Shining Path compared to other groups.\n",
    "Inverse Odds Ratio: The inverse odds ratio of approximately 0.2451 suggests that the odds of a lethal attack by other groups are approximately 0.2451 times (or about 1/4) the odds of a lethal attack by the Shining Path. This can be interpreted as individuals being significantly less likely to experience a lethal attack from other groups compared to the Shining Path.\n",
    "Confidence Interval for Odds Ratio: The confidence interval for the odds ratio, [3.34, 4.98], provides a range within which we can be reasonably confident (with 95% confidence) that the true odds ratio lies. Specifically, we estimate that the true odds ratio of lethal attacks by the Shining Path compared to other groups is likely to fall between approximately 3.34 and 4.98. This interval suggests that the odds of lethal attacks by the Shining Path are significantly higher than those by other groups, as the entire interval is above 1."
   ]
  },
  {
   "cell_type": "code",
   "execution_count": 10,
   "id": "cb50e662",
   "metadata": {},
   "outputs": [
    {
     "name": "stdout",
     "output_type": "stream",
     "text": [
      "Risk Ratio (Lethal attack compared to Non-fatal attack): 1.3024\n",
      "Wald Confidence Interval for Risk Ratio:\n",
      "Lower bound: 1.2617\n",
      "Upper bound: 1.3445\n",
      "Inverted Confidence Interval for Risk Ratio:\n",
      "Lower bound: 0.7438\n",
      "Upper bound: 0.7926\n"
     ]
    }
   ],
   "source": [
    "import numpy as np\n",
    "from scipy.stats import norm\n",
    "\n",
    "# Given data\n",
    "LA_SP = np.array([[1194, 130],\n",
    "                  [1704, 757]])\n",
    "\n",
    "# Calculate risk ratios\n",
    "TR = LA_SP / np.sum(LA_SP, axis=1, keepdims=True)\n",
    "TR1 = TR[0, 0]\n",
    "TR2 = TR[1, 0]\n",
    "risk_ratio = round(TR1 / TR2, 4)\n",
    "print(\"Risk Ratio (Lethal attack compared to Non-fatal attack):\", risk_ratio)\n",
    "\n",
    "# Calculate sample sizes\n",
    "n1 = np.sum(LA_SP[0, :])\n",
    "n2 = np.sum(LA_SP[1, :])\n",
    "\n",
    "# Calculate Wald confidence interval\n",
    "var_log_rr = (1 - TR1) / (n1 * TR1) + (1 - TR2) / (n2 * TR2)\n",
    "ci = np.exp(np.log(TR1 / TR2) + norm.ppf([alpha / 2, 1 - alpha / 2]) * np.sqrt(var_log_rr))\n",
    "print(\"Wald Confidence Interval for Risk Ratio:\")\n",
    "print(\"Lower bound:\", round(ci[0], 4))\n",
    "print(\"Upper bound:\", round(ci[1], 4))\n",
    "\n",
    "# Inverted confidence interval\n",
    "inv_ci = np.round(1 / ci, 4)\n",
    "print(\"Inverted Confidence Interval for Risk Ratio:\")\n",
    "print(\"Lower bound:\", inv_ci[1])\n",
    "print(\"Upper bound:\", inv_ci[0])"
   ]
  },
  {
   "cell_type": "markdown",
   "id": "c376bfc4",
   "metadata": {},
   "source": [
    "\n",
    "The interpretation of the results is as follows:\n",
    "\n",
    "Risk Ratio (Lethal attack compared to Non-fatal attack): The risk ratio of approximately 1.3024 suggests that individuals are 1.3024 times more likely to experience a lethal attack by the Shining Path compared to a non-fatal attack. In other words, the risk of a lethal attack is approximately 30.24% higher than the risk of a non-fatal attack.\n",
    "Wald Confidence Interval for Risk Ratio: The Wald confidence interval provides a range within which we can be reasonably confident (with 95% confidence) that the true risk ratio lies. The lower bound of approximately 1.2617 and the upper bound of approximately 1.3445 suggest that the true risk ratio of lethal attacks compared to non-fatal attacks is likely to fall between approximately 1.2617 and 1.3445. This interval indicates that the risk of a lethal attack is significantly higher than the risk of a non-fatal attack, as the entire interval is above 1.\n",
    "Inverted Confidence Interval for Risk Ratio: The inverted confidence interval provides an alternative perspective on the risk ratio by considering the inverse values. The lower bound of approximately 0.7438 and the upper bound of approximately 0.7926 suggest that the true risk ratio of non-fatal attacks compared to lethal attacks is likely to fall between approximately 0.7438 and 0.7926 when considering the inverse relationship. This interval indicates that the risk of a non-fatal attack is significantly lower than the risk of a lethal attack, as the entire interval is below 1."
   ]
  }
 ],
 "metadata": {
  "kernelspec": {
   "display_name": "Python 3 (ipykernel)",
   "language": "python",
   "name": "python3"
  },
  "language_info": {
   "codemirror_mode": {
    "name": "ipython",
    "version": 3
   },
   "file_extension": ".py",
   "mimetype": "text/x-python",
   "name": "python",
   "nbconvert_exporter": "python",
   "pygments_lexer": "ipython3",
   "version": "3.8.17"
  }
 },
 "nbformat": 4,
 "nbformat_minor": 5
}
